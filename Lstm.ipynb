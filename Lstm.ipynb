{
  "nbformat": 4,
  "nbformat_minor": 0,
  "metadata": {
    "colab": {
      "name": "Lstm.ipynb",
      "provenance": []
    },
    "kernelspec": {
      "name": "python3",
      "display_name": "Python 3"
    },
    "accelerator": "GPU"
  },
  "cells": [
    {
      "cell_type": "code",
      "metadata": {
        "id": "5AO6WBSvgy4g",
        "colab_type": "code",
        "colab": {
          "base_uri": "https://localhost:8080/",
          "height": 51
        },
        "outputId": "eeb62de3-8655-4bc3-c6d1-cce5a4eed5ec"
      },
      "source": [
        "import torch\n",
        "import torch.nn as nn\n",
        "from torchtext import data\n",
        "from torchtext import datasets\n",
        "import nltk\n",
        "from nltk.corpus import stopwords\n",
        "\n",
        "nltk.download(\"stopwords\")\n",
        "stopwords = set(stopwords.words(\"english\"))\n",
        "device = torch.device('cuda' if torch.cuda.is_available() else 'cpu') \n",
        "inputs = data.Field(lower=True, tokenize='spacy', stop_words=stopwords, batch_first=True)\n",
        "answers = data.LabelField(dtype = torch.long, batch_first=True)\n",
        "\n",
        "train, dev, test = datasets.SNLI.splits(inputs, answers, root='.dataset')\n",
        "\n",
        "inputs.build_vocab(train)\n",
        "answers.build_vocab(test)\n",
        "\n",
        "train_iter, dev_iter, test_iter = data.BucketIterator.splits(   \n",
        "    (train, dev, test), batch_size=256, device=device)\n",
        "\n",
        "# z = 0\n",
        "# for batch in train_iter:\n",
        "#     z+=1\n",
        "#     print(batch.hypothesis.shape)\n",
        "#     print(batch.hypothesis)\n",
        "#     print()\n",
        "#     if z == 2:\n",
        "#         break\n",
        "\n",
        "\n",
        "# iter = data.BucketIterator(datasets.SNLI, batch_size=128, shuffle=True)\n",
        "# test_iter = iter.splits(train, batch_size=128, device=device)"
      ],
      "execution_count": null,
      "outputs": [
        {
          "output_type": "stream",
          "text": [
            "[nltk_data] Downloading package stopwords to /root/nltk_data...\n",
            "[nltk_data]   Package stopwords is already up-to-date!\n"
          ],
          "name": "stdout"
        }
      ]
    },
    {
      "cell_type": "code",
      "metadata": {
        "id": "rLJ8U7L3AHdB",
        "colab_type": "code",
        "colab": {}
      },
      "source": [
        "import torch\n",
        "import torch.nn as nn\n",
        "\n",
        "\n",
        "class LstmModel(nn.Module):\n",
        "    def __init__(self, vocab_size, emb_dim, hidden_dim, output_dim, n_layers,\n",
        "                 bidirectional, dropout):\n",
        "        super().__init__()\n",
        "\n",
        "        self.embedding = nn.Embedding(num_embeddings=vocab_size, embedding_dim=emb_dim)\n",
        "\n",
        "        self.lstm = nn.LSTM(emb_dim,\n",
        "                            hidden_dim,\n",
        "                            num_layers=n_layers,\n",
        "                            bidirectional=bidirectional,\n",
        "                            dropout=dropout,\n",
        "                            batch_first=True)\n",
        "\n",
        "        self.fc = nn.Sequential(\n",
        "            nn.Linear(hidden_dim * 4, 512),\n",
        "            nn.LeakyReLU(negative_slope=0.05),\n",
        "            nn.Linear(512, 512),\n",
        "            nn.LeakyReLU(negative_slope=0.05),\n",
        "            nn.Dropout(),\n",
        "            nn.Linear(512, 512),\n",
        "            nn.LeakyReLU(negative_slope=0.05),\n",
        "            nn.Linear(512, 256),\n",
        "            nn.LeakyReLU(negative_slope=0.05),\n",
        "            nn.Dropout(),\n",
        "            nn.Linear(256, output_dim)\n",
        "        )\n",
        "        self.act = nn.Softmax(dim=1)\n",
        "\n",
        "\n",
        "    def apply_attention(self, rnn_output, final_hidden_state):\n",
        "        '''\n",
        "        Apply Attention on RNN output\n",
        "        \n",
        "        Input:\n",
        "            rnn_output (batch_size, seq_len, num_directions * hidden_size): tensor representing hidden state for every word in the sentence\n",
        "            final_hidden_state (batch_size, num_directions * hidden_size): final hidden state of the RNN\n",
        "            \n",
        "        Returns:\n",
        "            attention_output(batch_size, num_directions * hidden_size): attention output vector for the batch\n",
        "        '''\n",
        "        # print(rnn_output.shape)\n",
        "        # print(hidden_state.shape)\n",
        "        hidden_state = final_hidden_state.unsqueeze(2)\n",
        "        attention_scores = torch.bmm(rnn_output, hidden_state).squeeze(2)\n",
        "        soft_attention_weights = F.softmax(attention_scores, 1).unsqueeze(2) #shape = (batch_size, seq_len, 1)\n",
        "        attention_output = torch.bmm(rnn_output.permute(0,2,1), soft_attention_weights).squeeze(2)\n",
        "        return attention_output\n",
        "\n",
        "\n",
        "\n",
        "    def forward(self, batch):\n",
        "        # text1 = torch.transpose(batch.hypothesis[0], 0, 1).to(device)\n",
        "        # text2 = torch.transpose(batch.premise[0], 0, 1).to(device)\n",
        "        text1 = batch.hypothesis\n",
        "        text2 = batch.premise\n",
        "        embedded1 = self.embedding(text1)\n",
        "        embedded2 = self.embedding(text2)\n",
        "        op1, (hidden1, cell) = self.lstm(embedded1)\n",
        "        op2, (hidden2, cell) = self.lstm(embedded2)\n",
        "        hidden_feature1 = torch.cat((hidden1[-1, :, :], hidden1[-2, :, :]), dim=1)\n",
        "        hidden_feature2 = torch.cat((hidden2[-1, :, :], hidden2[-2, :, :]), dim=1)\n",
        "        att1 = self.apply_attention(op1, hidden_feature1)\n",
        "        att2 = self.apply_attention(op2, hidden_feature2)\n",
        "        hidden = torch.cat((att1, att2), dim=1)\n",
        "        \n",
        "        # hidden = torch.cat((hidden1[-1, :, :], hidden2[-1, :, :]), dim=1)\n",
        "        dense_outputs = self.fc(hidden)\n",
        "        outputs = self.act(dense_outputs)\n",
        "        return outputs\n"
      ],
      "execution_count": null,
      "outputs": []
    },
    {
      "cell_type": "code",
      "metadata": {
        "id": "0e4_5yari5m5",
        "colab_type": "code",
        "colab": {}
      },
      "source": [
        "model = LstmModel(len(inputs.vocab), 200, 128, 3, 3, True, 0)\n",
        "model = model.to(device)\n",
        "# pretrained_embeds = inputs.vocab.vectors\n",
        "# model.embedding.weight.data.copy_(pretrained_embeds, non_blocking=False)\n",
        "# print(pretrained_embeds.shape)\n",
        "\n"
      ],
      "execution_count": null,
      "outputs": []
    },
    {
      "cell_type": "code",
      "metadata": {
        "id": "PCLQJuNelyiP",
        "colab_type": "code",
        "colab": {}
      },
      "source": [
        "import torch.optim as optim\n",
        "\n",
        "optimizer = optim.Adam(model.parameters(), lr=0.00055)\n",
        "\n",
        "def compute_accuracy(preds, y):\n",
        "    correct = (torch.argmax(preds, dim=1) == y).float()\n",
        "    accuracy = correct.sum()/len(correct)\n",
        "    return accuracy\n",
        "    \n"
      ],
      "execution_count": null,
      "outputs": []
    },
    {
      "cell_type": "code",
      "metadata": {
        "id": "5_T9cYFlMfi_",
        "colab_type": "code",
        "colab": {}
      },
      "source": [
        "import torch.nn.functional as F\n",
        "\n",
        "def train_LSTM_model(model, iterator, optimizer):\n",
        "    epoch_loss = 0\n",
        "    epoch_acc = 0\n",
        "    model.train()\n",
        "\n",
        "    for batch in iterator:\n",
        "        optimizer.zero_grad()\n",
        "        # text = torch.cat((batch.hypothesis[0], batch.premise[0]), dim=0)\n",
        "        # text = torch.transpose(text, 0, 1).to(device)\n",
        "        # text_lengths = torch.cat((batch.hypothesis[1], batch.premise[1]), dim=0)\n",
        "        pred = model(batch).squeeze()\n",
        "        loss = F.cross_entropy(pred, batch.label)\n",
        "        acc = compute_accuracy(pred, batch.label)\n",
        "        loss.backward()  \n",
        "        optimizer.step()\n",
        "        epoch_loss += loss.item()  \n",
        "        epoch_acc += acc.item()\n",
        "\n",
        "    return epoch_loss / len(iterator), epoch_acc / len(iterator)\n",
        "\n",
        "def test_LSTM_model(model, iterator):\n",
        "    epoch_loss = 0\n",
        "    epoch_acc = 0\n",
        "    model.eval()\n",
        "\n",
        "    with torch.no_grad():\n",
        "        for batch in iterator:\n",
        "            # text = torch.cat((batch.hypothesis[0], batch.premise[0]), dim=0)\n",
        "            # text = torch.transpose(text, 0, 1).to(device)\n",
        "            # text_lengths = torch.cat((batch.hypothesis[1], batch.premise[1]), dim=0)\n",
        "            pred = model(batch).squeeze()\n",
        "            loss = F.cross_entropy(pred, batch.label)\n",
        "            acc = compute_accuracy(pred, batch.label)\n",
        "            epoch_loss += loss.item()  \n",
        "            epoch_acc += acc.item()            \n",
        "\n",
        "    return epoch_loss / len(iterator), epoch_acc / len(iterator)"
      ],
      "execution_count": null,
      "outputs": []
    },
    {
      "cell_type": "code",
      "metadata": {
        "id": "7gZV1w5mvPlO",
        "colab_type": "code",
        "colab": {
          "base_uri": "https://localhost:8080/",
          "height": 935
        },
        "outputId": "477d878e-63a9-4f77-a726-5ce8826df4e5"
      },
      "source": [
        "num_epochs = 30\n",
        "best_valid_loss = float('inf')\n",
        "torch.manual_seed(0)\n",
        "torch.cuda.manual_seed(0)\n",
        "loss_arr = []\n",
        "acc_arr = []\n",
        "\n",
        "for ep in range(num_epochs):\n",
        "    train_loss, train_acc = train_LSTM_model(model, train_iter, optimizer)\n",
        "    print(\"train loss and accuracy after \", ep, \"iterations : \", train_loss, train_acc)\n",
        "    loss_arr.append(train_loss)\n",
        "    \n",
        "    valid_loss, valid_acc = test_LSTM_model(model, test_iter)\n",
        "    print(\"test loss and accuracy after \", ep, \"iterations : \", valid_loss, valid_acc)\n",
        "    acc_arr.append(valid_acc)\n",
        "    print()\n",
        "    if valid_loss < best_valid_loss:\n",
        "        best_valid_loss = valid_loss\n",
        "        # torch.save(model.state_dict(), 'saved_weights4.pt')\n",
        "        for g in optimizer.param_groups:\n",
        "            g['lr'] *= 1.1\n",
        "    else:\n",
        "        for g in optimizer.param_groups:\n",
        "            g['lr'] *= 0.8\n",
        "\n",
        "\n",
        "\n",
        "\n"
      ],
      "execution_count": null,
      "outputs": [
        {
          "output_type": "stream",
          "text": [
            "train loss and accuracy after  0 iterations :  0.9321154518485181 0.5951673312656033\n",
            "test loss and accuracy after  0 iterations :  0.8828066480465424 0.6573851505915324\n",
            "\n",
            "train loss and accuracy after  1 iterations :  0.8563191144964124 0.6828517082797403\n",
            "test loss and accuracy after  1 iterations :  0.8536087687198932 0.6839610047829456\n",
            "\n",
            "train loss and accuracy after  2 iterations :  0.828651819819062 0.7132020419930478\n",
            "test loss and accuracy after  2 iterations :  0.8451120578325712 0.6969484518735837\n",
            "\n",
            "train loss and accuracy after  3 iterations :  0.8106453236806982 0.7327305137388971\n",
            "test loss and accuracy after  3 iterations :  0.8414207544082251 0.7016559839248657\n",
            "\n",
            "train loss and accuracy after  4 iterations :  0.7962500408833425 0.7483314525714458\n",
            "test loss and accuracy after  4 iterations :  0.8381359149248172 0.7051282051282052\n",
            "\n",
            "train loss and accuracy after  5 iterations :  0.7845562909211605 0.7611692270328259\n",
            "test loss and accuracy after  5 iterations :  0.8339814375608395 0.7118389423076923\n",
            "\n",
            "train loss and accuracy after  6 iterations :  0.7753590500921372 0.7705066960377884\n",
            "test loss and accuracy after  6 iterations :  0.8266935761158283 0.7170472756410257\n",
            "\n",
            "train loss and accuracy after  7 iterations :  0.7702283923412636 0.7762898196434153\n",
            "test loss and accuracy after  7 iterations :  0.8232905925848545 0.7223223829880739\n",
            "\n",
            "train loss and accuracy after  8 iterations :  0.7646807280524468 0.7820587129039622\n",
            "test loss and accuracy after  8 iterations :  0.8249147977584448 0.7175814646940964\n",
            "\n",
            "train loss and accuracy after  9 iterations :  0.7495488766910645 0.7979839210019196\n",
            "test loss and accuracy after  9 iterations :  0.820995182563097 0.7238247868342277\n",
            "\n",
            "train loss and accuracy after  10 iterations :  0.743535177127735 0.8040468983581326\n",
            "test loss and accuracy after  10 iterations :  0.8187858324784499 0.7268295945265354\n",
            "\n"
          ],
          "name": "stdout"
        },
        {
          "output_type": "error",
          "ename": "KeyboardInterrupt",
          "evalue": "ignored",
          "traceback": [
            "\u001b[0;31m---------------------------------------------------------------------------\u001b[0m",
            "\u001b[0;31mKeyboardInterrupt\u001b[0m                         Traceback (most recent call last)",
            "\u001b[0;32m<ipython-input-6-1c86bf50f510>\u001b[0m in \u001b[0;36m<module>\u001b[0;34m()\u001b[0m\n\u001b[1;32m      7\u001b[0m \u001b[0;34m\u001b[0m\u001b[0m\n\u001b[1;32m      8\u001b[0m \u001b[0;32mfor\u001b[0m \u001b[0mep\u001b[0m \u001b[0;32min\u001b[0m \u001b[0mrange\u001b[0m\u001b[0;34m(\u001b[0m\u001b[0mnum_epochs\u001b[0m\u001b[0;34m)\u001b[0m\u001b[0;34m:\u001b[0m\u001b[0;34m\u001b[0m\u001b[0;34m\u001b[0m\u001b[0m\n\u001b[0;32m----> 9\u001b[0;31m     \u001b[0mtrain_loss\u001b[0m\u001b[0;34m,\u001b[0m \u001b[0mtrain_acc\u001b[0m \u001b[0;34m=\u001b[0m \u001b[0mtrain_LSTM_model\u001b[0m\u001b[0;34m(\u001b[0m\u001b[0mmodel\u001b[0m\u001b[0;34m,\u001b[0m \u001b[0mtrain_iter\u001b[0m\u001b[0;34m,\u001b[0m \u001b[0moptimizer\u001b[0m\u001b[0;34m)\u001b[0m\u001b[0;34m\u001b[0m\u001b[0;34m\u001b[0m\u001b[0m\n\u001b[0m\u001b[1;32m     10\u001b[0m     \u001b[0mprint\u001b[0m\u001b[0;34m(\u001b[0m\u001b[0;34m\"train loss and accuracy after \"\u001b[0m\u001b[0;34m,\u001b[0m \u001b[0mep\u001b[0m\u001b[0;34m,\u001b[0m \u001b[0;34m\"iterations : \"\u001b[0m\u001b[0;34m,\u001b[0m \u001b[0mtrain_loss\u001b[0m\u001b[0;34m,\u001b[0m \u001b[0mtrain_acc\u001b[0m\u001b[0;34m)\u001b[0m\u001b[0;34m\u001b[0m\u001b[0;34m\u001b[0m\u001b[0m\n\u001b[1;32m     11\u001b[0m     \u001b[0mloss_arr\u001b[0m\u001b[0;34m.\u001b[0m\u001b[0mappend\u001b[0m\u001b[0;34m(\u001b[0m\u001b[0mtrain_loss\u001b[0m\u001b[0;34m)\u001b[0m\u001b[0;34m\u001b[0m\u001b[0;34m\u001b[0m\u001b[0m\n",
            "\u001b[0;32m<ipython-input-5-492e64e197d1>\u001b[0m in \u001b[0;36mtrain_LSTM_model\u001b[0;34m(model, iterator, optimizer)\u001b[0m\n\u001b[1;32m     14\u001b[0m         \u001b[0mloss\u001b[0m \u001b[0;34m=\u001b[0m \u001b[0mF\u001b[0m\u001b[0;34m.\u001b[0m\u001b[0mcross_entropy\u001b[0m\u001b[0;34m(\u001b[0m\u001b[0mpred\u001b[0m\u001b[0;34m,\u001b[0m \u001b[0mbatch\u001b[0m\u001b[0;34m.\u001b[0m\u001b[0mlabel\u001b[0m\u001b[0;34m)\u001b[0m\u001b[0;34m\u001b[0m\u001b[0;34m\u001b[0m\u001b[0m\n\u001b[1;32m     15\u001b[0m         \u001b[0macc\u001b[0m \u001b[0;34m=\u001b[0m \u001b[0mcompute_accuracy\u001b[0m\u001b[0;34m(\u001b[0m\u001b[0mpred\u001b[0m\u001b[0;34m,\u001b[0m \u001b[0mbatch\u001b[0m\u001b[0;34m.\u001b[0m\u001b[0mlabel\u001b[0m\u001b[0;34m)\u001b[0m\u001b[0;34m\u001b[0m\u001b[0;34m\u001b[0m\u001b[0m\n\u001b[0;32m---> 16\u001b[0;31m         \u001b[0mloss\u001b[0m\u001b[0;34m.\u001b[0m\u001b[0mbackward\u001b[0m\u001b[0;34m(\u001b[0m\u001b[0;34m)\u001b[0m\u001b[0;34m\u001b[0m\u001b[0;34m\u001b[0m\u001b[0m\n\u001b[0m\u001b[1;32m     17\u001b[0m         \u001b[0moptimizer\u001b[0m\u001b[0;34m.\u001b[0m\u001b[0mstep\u001b[0m\u001b[0;34m(\u001b[0m\u001b[0;34m)\u001b[0m\u001b[0;34m\u001b[0m\u001b[0;34m\u001b[0m\u001b[0m\n\u001b[1;32m     18\u001b[0m         \u001b[0mepoch_loss\u001b[0m \u001b[0;34m+=\u001b[0m \u001b[0mloss\u001b[0m\u001b[0;34m.\u001b[0m\u001b[0mitem\u001b[0m\u001b[0;34m(\u001b[0m\u001b[0;34m)\u001b[0m\u001b[0;34m\u001b[0m\u001b[0;34m\u001b[0m\u001b[0m\n",
            "\u001b[0;32m/usr/local/lib/python3.6/dist-packages/torch/tensor.py\u001b[0m in \u001b[0;36mbackward\u001b[0;34m(self, gradient, retain_graph, create_graph)\u001b[0m\n\u001b[1;32m    196\u001b[0m                 \u001b[0mproducts\u001b[0m\u001b[0;34m.\u001b[0m \u001b[0mDefaults\u001b[0m \u001b[0mto\u001b[0m\u001b[0;31m \u001b[0m\u001b[0;31m`\u001b[0m\u001b[0;31m`\u001b[0m\u001b[0;32mFalse\u001b[0m\u001b[0;31m`\u001b[0m\u001b[0;31m`\u001b[0m\u001b[0;34m.\u001b[0m\u001b[0;34m\u001b[0m\u001b[0;34m\u001b[0m\u001b[0m\n\u001b[1;32m    197\u001b[0m         \"\"\"\n\u001b[0;32m--> 198\u001b[0;31m         \u001b[0mtorch\u001b[0m\u001b[0;34m.\u001b[0m\u001b[0mautograd\u001b[0m\u001b[0;34m.\u001b[0m\u001b[0mbackward\u001b[0m\u001b[0;34m(\u001b[0m\u001b[0mself\u001b[0m\u001b[0;34m,\u001b[0m \u001b[0mgradient\u001b[0m\u001b[0;34m,\u001b[0m \u001b[0mretain_graph\u001b[0m\u001b[0;34m,\u001b[0m \u001b[0mcreate_graph\u001b[0m\u001b[0;34m)\u001b[0m\u001b[0;34m\u001b[0m\u001b[0;34m\u001b[0m\u001b[0m\n\u001b[0m\u001b[1;32m    199\u001b[0m \u001b[0;34m\u001b[0m\u001b[0m\n\u001b[1;32m    200\u001b[0m     \u001b[0;32mdef\u001b[0m \u001b[0mregister_hook\u001b[0m\u001b[0;34m(\u001b[0m\u001b[0mself\u001b[0m\u001b[0;34m,\u001b[0m \u001b[0mhook\u001b[0m\u001b[0;34m)\u001b[0m\u001b[0;34m:\u001b[0m\u001b[0;34m\u001b[0m\u001b[0;34m\u001b[0m\u001b[0m\n",
            "\u001b[0;32m/usr/local/lib/python3.6/dist-packages/torch/autograd/__init__.py\u001b[0m in \u001b[0;36mbackward\u001b[0;34m(tensors, grad_tensors, retain_graph, create_graph, grad_variables)\u001b[0m\n\u001b[1;32m     98\u001b[0m     Variable._execution_engine.run_backward(\n\u001b[1;32m     99\u001b[0m         \u001b[0mtensors\u001b[0m\u001b[0;34m,\u001b[0m \u001b[0mgrad_tensors\u001b[0m\u001b[0;34m,\u001b[0m \u001b[0mretain_graph\u001b[0m\u001b[0;34m,\u001b[0m \u001b[0mcreate_graph\u001b[0m\u001b[0;34m,\u001b[0m\u001b[0;34m\u001b[0m\u001b[0;34m\u001b[0m\u001b[0m\n\u001b[0;32m--> 100\u001b[0;31m         allow_unreachable=True)  # allow_unreachable flag\n\u001b[0m\u001b[1;32m    101\u001b[0m \u001b[0;34m\u001b[0m\u001b[0m\n\u001b[1;32m    102\u001b[0m \u001b[0;34m\u001b[0m\u001b[0m\n",
            "\u001b[0;31mKeyboardInterrupt\u001b[0m: "
          ]
        }
      ]
    },
    {
      "cell_type": "code",
      "metadata": {
        "id": "72aXITkM417f",
        "colab_type": "code",
        "colab": {
          "base_uri": "https://localhost:8080/",
          "height": 280
        },
        "outputId": "76dc3d03-2984-4d7c-8e0e-3c0fb9d79432"
      },
      "source": [
        "import matplotlib.pylab as pylab\n",
        "import numpy as np\n",
        "\n",
        "def plot_loss(ep, loss_arr):\n",
        "    \n",
        "    epoch_arr = list(range(1, ep + 1))\n",
        "\n",
        "    # pylab.scatter(epoch_arr, loss_arr)\n",
        "    pylab.plot(epoch_arr, loss_arr, label = 'Loss vs Number of Epochs')\n",
        "\n",
        "    # tick_arr = np.arange(1, ep + 1, 5).tolist()\n",
        "    tick_arr = [2,4,6,8,10,12,14,16,18,20]\n",
        "    pylab.xticks(tick_arr)\n",
        "    # pylab.yscale(\"log\")\n",
        "    pylab.legend(loc='upper left')\n",
        "    pylab.xlabel(\"Number of Epochs\")\n",
        "    pylab.ylabel(\"Validation set accuracy\")\n",
        "    pylab.savefig('plot_lstm.pdf')\n",
        "\n",
        "    pylab.show()\n",
        "\n",
        "    return\n",
        "\n",
        "ep = 17\n",
        "# l = []\n",
        "# for k in loss_arr:\n",
        "#     l.append(k.item())\n",
        "acc_arr = [0.6573851505915324, 0.6839610047829456, 0.6969484518735837, 0.7016559839248657, 0.7016559839248657, 0.7118389423076923, 0.7170472756410257, 0.7223223829880739, 0.7175814646940964, 0.7238247868342277, 0.7268295945265354, .7346, .739, .7455, .7566, .7512, .755]\n",
        "plot_loss(ep, acc_arr)\n"
      ],
      "execution_count": null,
      "outputs": [
        {
          "output_type": "display_data",
          "data": {
            "image/png": "[encoded data removed]",
            "text/plain": [
              "<Figure size 432x288 with 1 Axes>"
            ]
          },
          "metadata": {
            "tags": [],
            "needs_background": "light"
          }
        }
      ]
    },
    {
      "cell_type": "code",
      "metadata": {
        "id": "kKxXaWVKWGGg",
        "colab_type": "code",
        "colab": {
          "base_uri": "https://localhost:8080/",
          "height": 34
        },
        "outputId": "805870e6-8fa4-4533-ce89-672958324cd8"
      },
      "source": [
        "torch.manual_seed(0)\n",
        "torch.cuda.manual_seed(0)\n",
        "\n",
        "path='/content/saved_weights3.pt'\n",
        "test_model = LstmModel(len(inputs.vocab), 200, 128, 3, 2, True, 0)\n",
        "test_model.load_state_dict(torch.load(path))\n",
        "\n",
        "valid_loss, valid_acc = test_LSTM_model(model, test_iter)\n",
        "print(\"test loss and accuracy after \", ep, \"iterations : \", valid_loss, valid_acc)\n"
      ],
      "execution_count": null,
      "outputs": [
        {
          "output_type": "stream",
          "text": [
            "test loss and accuracy after  25 iterations :  0.7832937588939419 0.7656926412086982\n"
          ],
          "name": "stdout"
        }
      ]
    }
  ]
}