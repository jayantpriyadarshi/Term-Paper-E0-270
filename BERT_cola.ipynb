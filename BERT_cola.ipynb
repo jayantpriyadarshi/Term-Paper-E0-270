{
  "nbformat": 4,
  "nbformat_minor": 0,
  "metadata": {
    "colab": {
      "name": "BERT_cola.ipynb",
      "provenance": []
    },
    "kernelspec": {
      "name": "python3",
      "display_name": "Python 3"
    },
    "accelerator": "GPU",
    "widgets": {
      "application/vnd.jupyter.widget-state+json": {
        "c9975b12bf0842b5992f2e9b5c55d21a": {
          "model_module": "@jupyter-widgets/controls",
          "model_name": "HBoxModel",
          "state": {
            "_view_name": "HBoxView",
            "_dom_classes": [],
            "_model_name": "HBoxModel",
            "_view_module": "@jupyter-widgets/controls",
            "_model_module_version": "1.5.0",
            "_view_count": null,
            "_view_module_version": "1.5.0",
            "box_style": "",
            "layout": "IPY_MODEL_56ae15d7de3447d4a0193a824da73061",
            "_model_module": "@jupyter-widgets/controls",
            "children": [
              "IPY_MODEL_a64384833f3545f9b73b76e43a85b404",
              "IPY_MODEL_fa02347e43e84a6f896781454be4befe"
            ]
          }
        },
        "56ae15d7de3447d4a0193a824da73061": {
          "model_module": "@jupyter-widgets/base",
          "model_name": "LayoutModel",
          "state": {
            "_view_name": "LayoutView",
            "grid_template_rows": null,
            "right": null,
            "justify_content": null,
            "_view_module": "@jupyter-widgets/base",
            "overflow": null,
            "_model_module_version": "1.2.0",
            "_view_count": null,
            "flex_flow": null,
            "width": null,
            "min_width": null,
            "border": null,
            "align_items": null,
            "bottom": null,
            "_model_module": "@jupyter-widgets/base",
            "top": null,
            "grid_column": null,
            "overflow_y": null,
            "overflow_x": null,
            "grid_auto_flow": null,
            "grid_area": null,
            "grid_template_columns": null,
            "flex": null,
            "_model_name": "LayoutModel",
            "justify_items": null,
            "grid_row": null,
            "max_height": null,
            "align_content": null,
            "visibility": null,
            "align_self": null,
            "height": null,
            "min_height": null,
            "padding": null,
            "grid_auto_rows": null,
            "grid_gap": null,
            "max_width": null,
            "order": null,
            "_view_module_version": "1.2.0",
            "grid_template_areas": null,
            "object_position": null,
            "object_fit": null,
            "grid_auto_columns": null,
            "margin": null,
            "display": null,
            "left": null
          }
        },
        "a64384833f3545f9b73b76e43a85b404": {
          "model_module": "@jupyter-widgets/controls",
          "model_name": "FloatProgressModel",
          "state": {
            "_view_name": "ProgressView",
            "style": "IPY_MODEL_a0ba0589a2a042a1a120d90fd40a1a91",
            "_dom_classes": [],
            "description": "Downloading: 100%",
            "_model_name": "FloatProgressModel",
            "bar_style": "success",
            "max": 231508,
            "_view_module": "@jupyter-widgets/controls",
            "_model_module_version": "1.5.0",
            "value": 231508,
            "_view_count": null,
            "_view_module_version": "1.5.0",
            "orientation": "horizontal",
            "min": 0,
            "description_tooltip": null,
            "_model_module": "@jupyter-widgets/controls",
            "layout": "IPY_MODEL_c112338068b6442b80a4b39b263a20b7"
          }
        },
        "fa02347e43e84a6f896781454be4befe": {
          "model_module": "@jupyter-widgets/controls",
          "model_name": "HTMLModel",
          "state": {
            "_view_name": "HTMLView",
            "style": "IPY_MODEL_d25957d86086457988db7571b6d39c6d",
            "_dom_classes": [],
            "description": "",
            "_model_name": "HTMLModel",
            "placeholder": "​",
            "_view_module": "@jupyter-widgets/controls",
            "_model_module_version": "1.5.0",
            "value": " 232k/232k [00:00&lt;00:00, 395kB/s]",
            "_view_count": null,
            "_view_module_version": "1.5.0",
            "description_tooltip": null,
            "_model_module": "@jupyter-widgets/controls",
            "layout": "IPY_MODEL_3a35a93c51b94096a1182f39e8e5c5de"
          }
        },
        "a0ba0589a2a042a1a120d90fd40a1a91": {
          "model_module": "@jupyter-widgets/controls",
          "model_name": "ProgressStyleModel",
          "state": {
            "_view_name": "StyleView",
            "_model_name": "ProgressStyleModel",
            "description_width": "initial",
            "_view_module": "@jupyter-widgets/base",
            "_model_module_version": "1.5.0",
            "_view_count": null,
            "_view_module_version": "1.2.0",
            "bar_color": null,
            "_model_module": "@jupyter-widgets/controls"
          }
        },
        "c112338068b6442b80a4b39b263a20b7": {
          "model_module": "@jupyter-widgets/base",
          "model_name": "LayoutModel",
          "state": {
            "_view_name": "LayoutView",
            "grid_template_rows": null,
            "right": null,
            "justify_content": null,
            "_view_module": "@jupyter-widgets/base",
            "overflow": null,
            "_model_module_version": "1.2.0",
            "_view_count": null,
            "flex_flow": null,
            "width": null,
            "min_width": null,
            "border": null,
            "align_items": null,
            "bottom": null,
            "_model_module": "@jupyter-widgets/base",
            "top": null,
            "grid_column": null,
            "overflow_y": null,
            "overflow_x": null,
            "grid_auto_flow": null,
            "grid_area": null,
            "grid_template_columns": null,
            "flex": null,
            "_model_name": "LayoutModel",
            "justify_items": null,
            "grid_row": null,
            "max_height": null,
            "align_content": null,
            "visibility": null,
            "align_self": null,
            "height": null,
            "min_height": null,
            "padding": null,
            "grid_auto_rows": null,
            "grid_gap": null,
            "max_width": null,
            "order": null,
            "_view_module_version": "1.2.0",
            "grid_template_areas": null,
            "object_position": null,
            "object_fit": null,
            "grid_auto_columns": null,
            "margin": null,
            "display": null,
            "left": null
          }
        },
        "d25957d86086457988db7571b6d39c6d": {
          "model_module": "@jupyter-widgets/controls",
          "model_name": "DescriptionStyleModel",
          "state": {
            "_view_name": "StyleView",
            "_model_name": "DescriptionStyleModel",
            "description_width": "",
            "_view_module": "@jupyter-widgets/base",
            "_model_module_version": "1.5.0",
            "_view_count": null,
            "_view_module_version": "1.2.0",
            "_model_module": "@jupyter-widgets/controls"
          }
        },
        "3a35a93c51b94096a1182f39e8e5c5de": {
          "model_module": "@jupyter-widgets/base",
          "model_name": "LayoutModel",
          "state": {
            "_view_name": "LayoutView",
            "grid_template_rows": null,
            "right": null,
            "justify_content": null,
            "_view_module": "@jupyter-widgets/base",
            "overflow": null,
            "_model_module_version": "1.2.0",
            "_view_count": null,
            "flex_flow": null,
            "width": null,
            "min_width": null,
            "border": null,
            "align_items": null,
            "bottom": null,
            "_model_module": "@jupyter-widgets/base",
            "top": null,
            "grid_column": null,
            "overflow_y": null,
            "overflow_x": null,
            "grid_auto_flow": null,
            "grid_area": null,
            "grid_template_columns": null,
            "flex": null,
            "_model_name": "LayoutModel",
            "justify_items": null,
            "grid_row": null,
            "max_height": null,
            "align_content": null,
            "visibility": null,
            "align_self": null,
            "height": null,
            "min_height": null,
            "padding": null,
            "grid_auto_rows": null,
            "grid_gap": null,
            "max_width": null,
            "order": null,
            "_view_module_version": "1.2.0",
            "grid_template_areas": null,
            "object_position": null,
            "object_fit": null,
            "grid_auto_columns": null,
            "margin": null,
            "display": null,
            "left": null
          }
        },
        "96cdc84599304b8e90cecd645739c04f": {
          "model_module": "@jupyter-widgets/controls",
          "model_name": "HBoxModel",
          "state": {
            "_view_name": "HBoxView",
            "_dom_classes": [],
            "_model_name": "HBoxModel",
            "_view_module": "@jupyter-widgets/controls",
            "_model_module_version": "1.5.0",
            "_view_count": null,
            "_view_module_version": "1.5.0",
            "box_style": "",
            "layout": "IPY_MODEL_12ee883ab7bd414c8c5260b79416f878",
            "_model_module": "@jupyter-widgets/controls",
            "children": [
              "IPY_MODEL_5f6910484c2244b583f449667dae2e37",
              "IPY_MODEL_6f641ea2357d47b0acdd572101d86381"
            ]
          }
        },
        "12ee883ab7bd414c8c5260b79416f878": {
          "model_module": "@jupyter-widgets/base",
          "model_name": "LayoutModel",
          "state": {
            "_view_name": "LayoutView",
            "grid_template_rows": null,
            "right": null,
            "justify_content": null,
            "_view_module": "@jupyter-widgets/base",
            "overflow": null,
            "_model_module_version": "1.2.0",
            "_view_count": null,
            "flex_flow": null,
            "width": null,
            "min_width": null,
            "border": null,
            "align_items": null,
            "bottom": null,
            "_model_module": "@jupyter-widgets/base",
            "top": null,
            "grid_column": null,
            "overflow_y": null,
            "overflow_x": null,
            "grid_auto_flow": null,
            "grid_area": null,
            "grid_template_columns": null,
            "flex": null,
            "_model_name": "LayoutModel",
            "justify_items": null,
            "grid_row": null,
            "max_height": null,
            "align_content": null,
            "visibility": null,
            "align_self": null,
            "height": null,
            "min_height": null,
            "padding": null,
            "grid_auto_rows": null,
            "grid_gap": null,
            "max_width": null,
            "order": null,
            "_view_module_version": "1.2.0",
            "grid_template_areas": null,
            "object_position": null,
            "object_fit": null,
            "grid_auto_columns": null,
            "margin": null,
            "display": null,
            "left": null
          }
        },
        "5f6910484c2244b583f449667dae2e37": {
          "model_module": "@jupyter-widgets/controls",
          "model_name": "FloatProgressModel",
          "state": {
            "_view_name": "ProgressView",
            "style": "IPY_MODEL_7be6c25cdcd44cf3b8b7ef93201b593c",
            "_dom_classes": [],
            "description": "Downloading: 100%",
            "_model_name": "FloatProgressModel",
            "bar_style": "success",
            "max": 433,
            "_view_module": "@jupyter-widgets/controls",
            "_model_module_version": "1.5.0",
            "value": 433,
            "_view_count": null,
            "_view_module_version": "1.5.0",
            "orientation": "horizontal",
            "min": 0,
            "description_tooltip": null,
            "_model_module": "@jupyter-widgets/controls",
            "layout": "IPY_MODEL_c8daf346294b4ac182faf764da5dec56"
          }
        },
        "6f641ea2357d47b0acdd572101d86381": {
          "model_module": "@jupyter-widgets/controls",
          "model_name": "HTMLModel",
          "state": {
            "_view_name": "HTMLView",
            "style": "IPY_MODEL_d95ff9040bad4db1a04ac667a69df7bd",
            "_dom_classes": [],
            "description": "",
            "_model_name": "HTMLModel",
            "placeholder": "​",
            "_view_module": "@jupyter-widgets/controls",
            "_model_module_version": "1.5.0",
            "value": " 433/433 [00:09&lt;00:00, 46.1B/s]",
            "_view_count": null,
            "_view_module_version": "1.5.0",
            "description_tooltip": null,
            "_model_module": "@jupyter-widgets/controls",
            "layout": "IPY_MODEL_8b79064a48014228a08cf5561cbcf8c6"
          }
        },
        "7be6c25cdcd44cf3b8b7ef93201b593c": {
          "model_module": "@jupyter-widgets/controls",
          "model_name": "ProgressStyleModel",
          "state": {
            "_view_name": "StyleView",
            "_model_name": "ProgressStyleModel",
            "description_width": "initial",
            "_view_module": "@jupyter-widgets/base",
            "_model_module_version": "1.5.0",
            "_view_count": null,
            "_view_module_version": "1.2.0",
            "bar_color": null,
            "_model_module": "@jupyter-widgets/controls"
          }
        },
        "c8daf346294b4ac182faf764da5dec56": {
          "model_module": "@jupyter-widgets/base",
          "model_name": "LayoutModel",
          "state": {
            "_view_name": "LayoutView",
            "grid_template_rows": null,
            "right": null,
            "justify_content": null,
            "_view_module": "@jupyter-widgets/base",
            "overflow": null,
            "_model_module_version": "1.2.0",
            "_view_count": null,
            "flex_flow": null,
            "width": null,
            "min_width": null,
            "border": null,
            "align_items": null,
            "bottom": null,
            "_model_module": "@jupyter-widgets/base",
            "top": null,
            "grid_column": null,
            "overflow_y": null,
            "overflow_x": null,
            "grid_auto_flow": null,
            "grid_area": null,
            "grid_template_columns": null,
            "flex": null,
            "_model_name": "LayoutModel",
            "justify_items": null,
            "grid_row": null,
            "max_height": null,
            "align_content": null,
            "visibility": null,
            "align_self": null,
            "height": null,
            "min_height": null,
            "padding": null,
            "grid_auto_rows": null,
            "grid_gap": null,
            "max_width": null,
            "order": null,
            "_view_module_version": "1.2.0",
            "grid_template_areas": null,
            "object_position": null,
            "object_fit": null,
            "grid_auto_columns": null,
            "margin": null,
            "display": null,
            "left": null
          }
        },
        "d95ff9040bad4db1a04ac667a69df7bd": {
          "model_module": "@jupyter-widgets/controls",
          "model_name": "DescriptionStyleModel",
          "state": {
            "_view_name": "StyleView",
            "_model_name": "DescriptionStyleModel",
            "description_width": "",
            "_view_module": "@jupyter-widgets/base",
            "_model_module_version": "1.5.0",
            "_view_count": null,
            "_view_module_version": "1.2.0",
            "_model_module": "@jupyter-widgets/controls"
          }
        },
        "8b79064a48014228a08cf5561cbcf8c6": {
          "model_module": "@jupyter-widgets/base",
          "model_name": "LayoutModel",
          "state": {
            "_view_name": "LayoutView",
            "grid_template_rows": null,
            "right": null,
            "justify_content": null,
            "_view_module": "@jupyter-widgets/base",
            "overflow": null,
            "_model_module_version": "1.2.0",
            "_view_count": null,
            "flex_flow": null,
            "width": null,
            "min_width": null,
            "border": null,
            "align_items": null,
            "bottom": null,
            "_model_module": "@jupyter-widgets/base",
            "top": null,
            "grid_column": null,
            "overflow_y": null,
            "overflow_x": null,
            "grid_auto_flow": null,
            "grid_area": null,
            "grid_template_columns": null,
            "flex": null,
            "_model_name": "LayoutModel",
            "justify_items": null,
            "grid_row": null,
            "max_height": null,
            "align_content": null,
            "visibility": null,
            "align_self": null,
            "height": null,
            "min_height": null,
            "padding": null,
            "grid_auto_rows": null,
            "grid_gap": null,
            "max_width": null,
            "order": null,
            "_view_module_version": "1.2.0",
            "grid_template_areas": null,
            "object_position": null,
            "object_fit": null,
            "grid_auto_columns": null,
            "margin": null,
            "display": null,
            "left": null
          }
        },
        "0a0c33eb40bd4b039d53db852ef98e22": {
          "model_module": "@jupyter-widgets/controls",
          "model_name": "HBoxModel",
          "state": {
            "_view_name": "HBoxView",
            "_dom_classes": [],
            "_model_name": "HBoxModel",
            "_view_module": "@jupyter-widgets/controls",
            "_model_module_version": "1.5.0",
            "_view_count": null,
            "_view_module_version": "1.5.0",
            "box_style": "",
            "layout": "IPY_MODEL_24ca784623854817950339717bfa4b6a",
            "_model_module": "@jupyter-widgets/controls",
            "children": [
              "IPY_MODEL_9767e1473e3f4e269878a400f2ab19c3",
              "IPY_MODEL_58af86d70d6a4a34b720a8c177fe8a56"
            ]
          }
        },
        "24ca784623854817950339717bfa4b6a": {
          "model_module": "@jupyter-widgets/base",
          "model_name": "LayoutModel",
          "state": {
            "_view_name": "LayoutView",
            "grid_template_rows": null,
            "right": null,
            "justify_content": null,
            "_view_module": "@jupyter-widgets/base",
            "overflow": null,
            "_model_module_version": "1.2.0",
            "_view_count": null,
            "flex_flow": null,
            "width": null,
            "min_width": null,
            "border": null,
            "align_items": null,
            "bottom": null,
            "_model_module": "@jupyter-widgets/base",
            "top": null,
            "grid_column": null,
            "overflow_y": null,
            "overflow_x": null,
            "grid_auto_flow": null,
            "grid_area": null,
            "grid_template_columns": null,
            "flex": null,
            "_model_name": "LayoutModel",
            "justify_items": null,
            "grid_row": null,
            "max_height": null,
            "align_content": null,
            "visibility": null,
            "align_self": null,
            "height": null,
            "min_height": null,
            "padding": null,
            "grid_auto_rows": null,
            "grid_gap": null,
            "max_width": null,
            "order": null,
            "_view_module_version": "1.2.0",
            "grid_template_areas": null,
            "object_position": null,
            "object_fit": null,
            "grid_auto_columns": null,
            "margin": null,
            "display": null,
            "left": null
          }
        },
        "9767e1473e3f4e269878a400f2ab19c3": {
          "model_module": "@jupyter-widgets/controls",
          "model_name": "FloatProgressModel",
          "state": {
            "_view_name": "ProgressView",
            "style": "IPY_MODEL_deaa9f7acd494052b25fe0be0d2f9c5e",
            "_dom_classes": [],
            "description": "Downloading: 100%",
            "_model_name": "FloatProgressModel",
            "bar_style": "success",
            "max": 440473133,
            "_view_module": "@jupyter-widgets/controls",
            "_model_module_version": "1.5.0",
            "value": 440473133,
            "_view_count": null,
            "_view_module_version": "1.5.0",
            "orientation": "horizontal",
            "min": 0,
            "description_tooltip": null,
            "_model_module": "@jupyter-widgets/controls",
            "layout": "IPY_MODEL_fcafc02deed94b90bb9ca2a5073d3151"
          }
        },
        "58af86d70d6a4a34b720a8c177fe8a56": {
          "model_module": "@jupyter-widgets/controls",
          "model_name": "HTMLModel",
          "state": {
            "_view_name": "HTMLView",
            "style": "IPY_MODEL_d3bfdc84dedf46b3bd67c4801122f487",
            "_dom_classes": [],
            "description": "",
            "_model_name": "HTMLModel",
            "placeholder": "​",
            "_view_module": "@jupyter-widgets/controls",
            "_model_module_version": "1.5.0",
            "value": " 440M/440M [00:09&lt;00:00, 47.5MB/s]",
            "_view_count": null,
            "_view_module_version": "1.5.0",
            "description_tooltip": null,
            "_model_module": "@jupyter-widgets/controls",
            "layout": "IPY_MODEL_7f0367ee33bb4a46b64f3e29f3d90d9d"
          }
        },
        "deaa9f7acd494052b25fe0be0d2f9c5e": {
          "model_module": "@jupyter-widgets/controls",
          "model_name": "ProgressStyleModel",
          "state": {
            "_view_name": "StyleView",
            "_model_name": "ProgressStyleModel",
            "description_width": "initial",
            "_view_module": "@jupyter-widgets/base",
            "_model_module_version": "1.5.0",
            "_view_count": null,
            "_view_module_version": "1.2.0",
            "bar_color": null,
            "_model_module": "@jupyter-widgets/controls"
          }
        },
        "fcafc02deed94b90bb9ca2a5073d3151": {
          "model_module": "@jupyter-widgets/base",
          "model_name": "LayoutModel",
          "state": {
            "_view_name": "LayoutView",
            "grid_template_rows": null,
            "right": null,
            "justify_content": null,
            "_view_module": "@jupyter-widgets/base",
            "overflow": null,
            "_model_module_version": "1.2.0",
            "_view_count": null,
            "flex_flow": null,
            "width": null,
            "min_width": null,
            "border": null,
            "align_items": null,
            "bottom": null,
            "_model_module": "@jupyter-widgets/base",
            "top": null,
            "grid_column": null,
            "overflow_y": null,
            "overflow_x": null,
            "grid_auto_flow": null,
            "grid_area": null,
            "grid_template_columns": null,
            "flex": null,
            "_model_name": "LayoutModel",
            "justify_items": null,
            "grid_row": null,
            "max_height": null,
            "align_content": null,
            "visibility": null,
            "align_self": null,
            "height": null,
            "min_height": null,
            "padding": null,
            "grid_auto_rows": null,
            "grid_gap": null,
            "max_width": null,
            "order": null,
            "_view_module_version": "1.2.0",
            "grid_template_areas": null,
            "object_position": null,
            "object_fit": null,
            "grid_auto_columns": null,
            "margin": null,
            "display": null,
            "left": null
          }
        },
        "d3bfdc84dedf46b3bd67c4801122f487": {
          "model_module": "@jupyter-widgets/controls",
          "model_name": "DescriptionStyleModel",
          "state": {
            "_view_name": "StyleView",
            "_model_name": "DescriptionStyleModel",
            "description_width": "",
            "_view_module": "@jupyter-widgets/base",
            "_model_module_version": "1.5.0",
            "_view_count": null,
            "_view_module_version": "1.2.0",
            "_model_module": "@jupyter-widgets/controls"
          }
        },
        "7f0367ee33bb4a46b64f3e29f3d90d9d": {
          "model_module": "@jupyter-widgets/base",
          "model_name": "LayoutModel",
          "state": {
            "_view_name": "LayoutView",
            "grid_template_rows": null,
            "right": null,
            "justify_content": null,
            "_view_module": "@jupyter-widgets/base",
            "overflow": null,
            "_model_module_version": "1.2.0",
            "_view_count": null,
            "flex_flow": null,
            "width": null,
            "min_width": null,
            "border": null,
            "align_items": null,
            "bottom": null,
            "_model_module": "@jupyter-widgets/base",
            "top": null,
            "grid_column": null,
            "overflow_y": null,
            "overflow_x": null,
            "grid_auto_flow": null,
            "grid_area": null,
            "grid_template_columns": null,
            "flex": null,
            "_model_name": "LayoutModel",
            "justify_items": null,
            "grid_row": null,
            "max_height": null,
            "align_content": null,
            "visibility": null,
            "align_self": null,
            "height": null,
            "min_height": null,
            "padding": null,
            "grid_auto_rows": null,
            "grid_gap": null,
            "max_width": null,
            "order": null,
            "_view_module_version": "1.2.0",
            "grid_template_areas": null,
            "object_position": null,
            "object_fit": null,
            "grid_auto_columns": null,
            "margin": null,
            "display": null,
            "left": null
          }
        }
      }
    }
  },
  "cells": [
    {
      "cell_type": "code",
      "metadata": {
        "id": "h9oeXsUH3j5G",
        "colab_type": "code",
        "colab": {
          "base_uri": "https://localhost:8080/",
          "height": 391
        },
        "outputId": "01ce9752-b20d-4e84-be43-8e40e8bacef8"
      },
      "source": [
        "import numpy as np\n",
        "import pandas as pd\n",
        "\n",
        "import torch\n",
        "import torch.nn as nn\n",
        "import torch.nn.functional as F\n",
        "from torch.utils.data import TensorDataset, DataLoader\n",
        "from torch.utils.data import RandomSampler, SequentialSampler\n",
        "\n",
        "!pip install transformers\n",
        "!pip install wget\n",
        "!pip install jsonlines\n",
        "\n",
        "import transformers\n",
        "from transformers import BertTokenizer\n",
        "from transformers import BertForSequenceClassification, AdamW, BertConfig\n",
        "\n",
        "from keras.preprocessing.sequence import pad_sequences\n",
        "from sklearn.model_selection import train_test_split\n",
        "from sklearn.metrics import matthews_corrcoef\n",
        "\n",
        "import wget\n",
        "import json\n",
        "import jsonlines\n",
        "import os"
      ],
      "execution_count": 11,
      "outputs": [
        {
          "output_type": "stream",
          "text": [
            "Requirement already satisfied: transformers in /usr/local/lib/python3.6/dist-packages (2.11.0)\n",
            "Requirement already satisfied: tokenizers==0.7.0 in /usr/local/lib/python3.6/dist-packages (from transformers) (0.7.0)\n",
            "Requirement already satisfied: dataclasses; python_version < \"3.7\" in /usr/local/lib/python3.6/dist-packages (from transformers) (0.7)\n",
            "Requirement already satisfied: numpy in /usr/local/lib/python3.6/dist-packages (from transformers) (1.18.5)\n",
            "Requirement already satisfied: tqdm>=4.27 in /usr/local/lib/python3.6/dist-packages (from transformers) (4.41.1)\n",
            "Requirement already satisfied: requests in /usr/local/lib/python3.6/dist-packages (from transformers) (2.23.0)\n",
            "Requirement already satisfied: packaging in /usr/local/lib/python3.6/dist-packages (from transformers) (20.4)\n",
            "Requirement already satisfied: sacremoses in /usr/local/lib/python3.6/dist-packages (from transformers) (0.0.43)\n",
            "Requirement already satisfied: filelock in /usr/local/lib/python3.6/dist-packages (from transformers) (3.0.12)\n",
            "Requirement already satisfied: regex!=2019.12.17 in /usr/local/lib/python3.6/dist-packages (from transformers) (2019.12.20)\n",
            "Requirement already satisfied: sentencepiece in /usr/local/lib/python3.6/dist-packages (from transformers) (0.1.91)\n",
            "Requirement already satisfied: chardet<4,>=3.0.2 in /usr/local/lib/python3.6/dist-packages (from requests->transformers) (3.0.4)\n",
            "Requirement already satisfied: certifi>=2017.4.17 in /usr/local/lib/python3.6/dist-packages (from requests->transformers) (2020.4.5.2)\n",
            "Requirement already satisfied: urllib3!=1.25.0,!=1.25.1,<1.26,>=1.21.1 in /usr/local/lib/python3.6/dist-packages (from requests->transformers) (1.24.3)\n",
            "Requirement already satisfied: idna<3,>=2.5 in /usr/local/lib/python3.6/dist-packages (from requests->transformers) (2.9)\n",
            "Requirement already satisfied: six in /usr/local/lib/python3.6/dist-packages (from packaging->transformers) (1.12.0)\n",
            "Requirement already satisfied: pyparsing>=2.0.2 in /usr/local/lib/python3.6/dist-packages (from packaging->transformers) (2.4.7)\n",
            "Requirement already satisfied: click in /usr/local/lib/python3.6/dist-packages (from sacremoses->transformers) (7.1.2)\n",
            "Requirement already satisfied: joblib in /usr/local/lib/python3.6/dist-packages (from sacremoses->transformers) (0.15.1)\n",
            "Requirement already satisfied: wget in /usr/local/lib/python3.6/dist-packages (3.2)\n",
            "Requirement already satisfied: jsonlines in /usr/local/lib/python3.6/dist-packages (1.2.0)\n",
            "Requirement already satisfied: six in /usr/local/lib/python3.6/dist-packages (from jsonlines) (1.12.0)\n"
          ],
          "name": "stdout"
        }
      ]
    },
    {
      "cell_type": "code",
      "metadata": {
        "id": "ZirepTAK32iX",
        "colab_type": "code",
        "colab": {
          "base_uri": "https://localhost:8080/",
          "height": 34
        },
        "outputId": "85d4c846-4229-45b1-b576-431ab4f165ee"
      },
      "source": [
        "##########    Downloading the Cola dataset   ###########\n",
        "\n",
        "url = 'https://nyu-mll.github.io/CoLA/cola_public_1.1.zip' # link for dataset\n",
        "if not os.path.exists('./cola_public_1.1.zip'):\n",
        "    wget.download(url, './cola_public_1.1.zip') # download if not already exists\n",
        "\n",
        "#########   Setting GPU device   #########\n",
        "\n",
        "if torch.cuda.is_available():\n",
        "    device = torch.device('cuda')\n",
        "else:\n",
        "    device = torch.device('cpu')\n",
        "\n",
        "print(device)"
      ],
      "execution_count": 2,
      "outputs": [
        {
          "output_type": "stream",
          "text": [
            "cuda\n"
          ],
          "name": "stdout"
        }
      ]
    },
    {
      "cell_type": "code",
      "metadata": {
        "id": "ht3SmiB9vgXB",
        "colab_type": "code",
        "colab": {
          "base_uri": "https://localhost:8080/",
          "height": 204
        },
        "outputId": "a9511cce-5909-443c-f001-6693111c8ee6"
      },
      "source": [
        "###########   Unzip the dataset   ############\n",
        "if not os.path.exists('./cola_public/'):\n",
        "    !unzip cola_public_1.1.zip\n",
        "\n",
        "##########   Parse the data   ###########\n",
        "\n",
        "def read_and_parse_data(path, turn):\n",
        "    d = pd.read_csv(path, \n",
        "                    delimiter='\\t', header=None,\n",
        "                    names=['sentence_source', 'label', 'label_notes', 'sentence'])\n",
        "\n",
        "    # data contains 8551 training sentences.\n",
        "    # if label = 0 => sentence is gramatically incorrect\n",
        "    d.sample(5) # sample 5 data randomly\n",
        "\n",
        "    #####  extract sentences and labels ####\n",
        "\n",
        "    train_data = d.sentence.values  # (8551,)\n",
        "    label = d.label.values          # (8551,)\n",
        "\n",
        "    ######  Process data into BERT acceptable format  #####\n",
        "\n",
        "    tokenizer = BertTokenizer.from_pretrained('bert-base-uncased', \n",
        "                                            do_lower_case=True)\n",
        "\n",
        "    ######  showcasing the work of BERT tokenizer on one example  #######\n",
        "    print(train_data[2])\n",
        "    print(tokenizer.tokenize(train_data[2]))\n",
        "\n",
        "    ######  Tokenize all the sentences, add special symbols at once  #######\n",
        "    inputs = []  # will store vocab indices for each word in sentences\n",
        "    for sentence in train_data:\n",
        "        s = tokenizer.encode(sentence, add_special_tokens=True)\n",
        "        inputs.append(s)\n",
        "\n",
        "    print(inputs[2])\n",
        "    print(len(inputs))  # all 8551 sentences tokenized\n",
        "    #######   Padding, Mask   ########\n",
        "    max_length = 64\n",
        "\n",
        "    # Pad each data with 0's to make it const lenght(64) as needed for BERT\n",
        "    inputs = pad_sequences(inputs, maxlen=max_length, dtype=\"long\",\n",
        "                        value=0, truncating=\"post\", padding=\"post\")\n",
        "\n",
        "    print(inputs[2])\n",
        "\n",
        "    # Mask differentiates actual word from padding in each sentence\n",
        "    mask = []\n",
        "    for s in inputs:\n",
        "        m = [int(word_id > 0) for word_id in s]\n",
        "        mask.append(m)\n",
        "\n",
        "    print(mask[2])  # contains 1 for original words, 0 for padded words\n",
        "\n",
        "    #######   split data into train and test set  ########\n",
        "    test_size = 0.1 if turn == \"train\" else 0.001\n",
        "\n",
        "    train_set, test_set, train_labels, test_labels = train_test_split(\n",
        "        inputs, label, random_state=2018, test_size=test_size\n",
        "    )\n",
        "    \n",
        "    train_mask, test_mask, _, _ = train_test_split(mask, label, \n",
        "                                                random_state=2018, \n",
        "                                                test_size=test_size)\n",
        "\n",
        "    print(\"train set size\",len(train_set))  # 0.9 times original num of sentences\n",
        "    print(\"test set size\", len(test_set))   # 0.1 times original num of sentences\n",
        "    print()\n",
        "\n",
        "    ########   convert NumPy arrays to Tensor data  ########\n",
        "\n",
        "    train_set = torch.tensor(train_set)\n",
        "    test_set = torch.tensor(test_set)\n",
        "    train_labels = torch.tensor(train_labels)\n",
        "    test_labels = torch.tensor(test_labels)\n",
        "    train_mask = torch.tensor(train_mask)\n",
        "    test_mask = torch.tensor(test_mask)\n",
        "\n",
        "    print(\"train data shape\", train_set.shape)\n",
        "    print(\"test data shape\", train_labels.shape)\n",
        "    print(\"train mask shape\", train_mask.shape)\n",
        "\n",
        "    #######   Dataloader to load train and test data in batches  ########\n",
        "\n",
        "    batch_size = 32  # Recommended in paper\n",
        "    train = TensorDataset(train_set, train_mask, train_labels)\n",
        "    sampler = RandomSampler(train)\n",
        "    train_loader = DataLoader(train, batch_size=batch_size, sampler=sampler)\n",
        "\n",
        "    test = TensorDataset(test_set, test_mask, test_labels)\n",
        "    samp = RandomSampler(test)\n",
        "    test_loader = DataLoader(test, batch_size=batch_size, sampler=samp)\n",
        "\n",
        "    return train_loader, test_loader\n",
        "\n",
        "    # Now our train and test data loader is processed and ready as needed"
      ],
      "execution_count": 3,
      "outputs": [
        {
          "output_type": "stream",
          "text": [
            "Archive:  cola_public_1.1.zip\n",
            "   creating: cola_public/\n",
            "  inflating: cola_public/README      \n",
            "   creating: cola_public/tokenized/\n",
            "  inflating: cola_public/tokenized/in_domain_dev.tsv  \n",
            "  inflating: cola_public/tokenized/in_domain_train.tsv  \n",
            "  inflating: cola_public/tokenized/out_of_domain_dev.tsv  \n",
            "   creating: cola_public/raw/\n",
            "  inflating: cola_public/raw/in_domain_dev.tsv  \n",
            "  inflating: cola_public/raw/in_domain_train.tsv  \n",
            "  inflating: cola_public/raw/out_of_domain_dev.tsv  \n"
          ],
          "name": "stdout"
        }
      ]
    },
    {
      "cell_type": "code",
      "metadata": {
        "id": "bSeem1sc0r91",
        "colab_type": "code",
        "colab": {
          "base_uri": "https://localhost:8080/",
          "height": 473,
          "referenced_widgets": [
            "c9975b12bf0842b5992f2e9b5c55d21a",
            "56ae15d7de3447d4a0193a824da73061",
            "a64384833f3545f9b73b76e43a85b404",
            "fa02347e43e84a6f896781454be4befe",
            "a0ba0589a2a042a1a120d90fd40a1a91",
            "c112338068b6442b80a4b39b263a20b7",
            "d25957d86086457988db7571b6d39c6d",
            "3a35a93c51b94096a1182f39e8e5c5de",
            "96cdc84599304b8e90cecd645739c04f",
            "12ee883ab7bd414c8c5260b79416f878",
            "5f6910484c2244b583f449667dae2e37",
            "6f641ea2357d47b0acdd572101d86381",
            "7be6c25cdcd44cf3b8b7ef93201b593c",
            "c8daf346294b4ac182faf764da5dec56",
            "d95ff9040bad4db1a04ac667a69df7bd",
            "8b79064a48014228a08cf5561cbcf8c6",
            "0a0c33eb40bd4b039d53db852ef98e22",
            "24ca784623854817950339717bfa4b6a",
            "9767e1473e3f4e269878a400f2ab19c3",
            "58af86d70d6a4a34b720a8c177fe8a56",
            "deaa9f7acd494052b25fe0be0d2f9c5e",
            "fcafc02deed94b90bb9ca2a5073d3151",
            "d3bfdc84dedf46b3bd67c4801122f487",
            "7f0367ee33bb4a46b64f3e29f3d90d9d"
          ]
        },
        "outputId": "9d649059-b3a6-48b5-f693-7bb5f18aa60c"
      },
      "source": [
        "#######  Call the dataloader for training data  #########\n",
        "train_loader, _ = read_and_parse_data(\"./cola_public/raw/in_domain_train.tsv\",\n",
        "                                   turn=\"train\")\n",
        "\n",
        "#######   define the model   ###########\n",
        "bert_model = BertForSequenceClassification.from_pretrained(\n",
        "    \"bert-base-uncased\",\n",
        "    num_labels=2,\n",
        "    output_attentions = False,\n",
        "    output_hidden_states = False,\n",
        ")\n",
        "\n",
        "bert_model = bert_model.to(device)"
      ],
      "execution_count": 4,
      "outputs": [
        {
          "output_type": "display_data",
          "data": {
            "application/vnd.jupyter.widget-view+json": {
              "model_id": "c9975b12bf0842b5992f2e9b5c55d21a",
              "version_minor": 0,
              "version_major": 2
            },
            "text/plain": [
              "HBox(children=(FloatProgress(value=0.0, description='Downloading', max=231508.0, style=ProgressStyle(descripti…"
            ]
          },
          "metadata": {
            "tags": []
          }
        },
        {
          "output_type": "stream",
          "text": [
            "\n",
            "One more pseudo generalization or I'm giving up.\n",
            "['one', 'more', 'pseudo', 'general', '##ization', 'or', 'i', \"'\", 'm', 'giving', 'up', '.']\n",
            "[101, 2028, 2062, 18404, 2236, 3989, 2030, 1045, 1005, 1049, 3228, 2039, 1012, 102]\n",
            "8551\n",
            "[  101  2028  2062 18404  2236  3989  2030  1045  1005  1049  3228  2039\n",
            "  1012   102     0     0     0     0     0     0     0     0     0     0\n",
            "     0     0     0     0     0     0     0     0     0     0     0     0\n",
            "     0     0     0     0     0     0     0     0     0     0     0     0\n",
            "     0     0     0     0     0     0     0     0     0     0     0     0\n",
            "     0     0     0     0]\n",
            "[1, 1, 1, 1, 1, 1, 1, 1, 1, 1, 1, 1, 1, 1, 0, 0, 0, 0, 0, 0, 0, 0, 0, 0, 0, 0, 0, 0, 0, 0, 0, 0, 0, 0, 0, 0, 0, 0, 0, 0, 0, 0, 0, 0, 0, 0, 0, 0, 0, 0, 0, 0, 0, 0, 0, 0, 0, 0, 0, 0, 0, 0, 0, 0]\n",
            "train set size 7695\n",
            "test set size 856\n",
            "\n",
            "train data shape torch.Size([7695, 64])\n",
            "test data shape torch.Size([7695])\n",
            "train mask shape torch.Size([7695, 64])\n"
          ],
          "name": "stdout"
        },
        {
          "output_type": "display_data",
          "data": {
            "application/vnd.jupyter.widget-view+json": {
              "model_id": "96cdc84599304b8e90cecd645739c04f",
              "version_minor": 0,
              "version_major": 2
            },
            "text/plain": [
              "HBox(children=(FloatProgress(value=0.0, description='Downloading', max=433.0, style=ProgressStyle(description_…"
            ]
          },
          "metadata": {
            "tags": []
          }
        },
        {
          "output_type": "stream",
          "text": [
            "\n"
          ],
          "name": "stdout"
        },
        {
          "output_type": "display_data",
          "data": {
            "application/vnd.jupyter.widget-view+json": {
              "model_id": "0a0c33eb40bd4b039d53db852ef98e22",
              "version_minor": 0,
              "version_major": 2
            },
            "text/plain": [
              "HBox(children=(FloatProgress(value=0.0, description='Downloading', max=440473133.0, style=ProgressStyle(descri…"
            ]
          },
          "metadata": {
            "tags": []
          }
        },
        {
          "output_type": "stream",
          "text": [
            "\n"
          ],
          "name": "stdout"
        }
      ]
    },
    {
      "cell_type": "code",
      "metadata": {
        "id": "k61ts92OaprZ",
        "colab_type": "code",
        "colab": {}
      },
      "source": [
        "########  define optimizer, write accuracy fn  ###########\n",
        "\n",
        "optimizer = AdamW(bert_model.parameters(), lr=2e-5, eps=1e-8)\n",
        "num_epochs = 4\n",
        "loss_arr = []\n",
        "\n",
        "def compute_accuracy(preds, targets):\n",
        "    return (torch.argmax(preds, dim=1) == targets).float().mean().item()\n",
        "    "
      ],
      "execution_count": 5,
      "outputs": []
    },
    {
      "cell_type": "code",
      "metadata": {
        "id": "7daHC3guhaeO",
        "colab_type": "code",
        "colab": {
          "base_uri": "https://localhost:8080/",
          "height": 85
        },
        "outputId": "d06f61ab-a029-42ed-bdaa-c8343d94a0c8"
      },
      "source": [
        "###############   TRAINING OF BERT MODEL  ##################\n",
        "\n",
        "for ep in range(num_epochs):\n",
        "    bert_model.train()\n",
        "    epoch_loss = 0\n",
        "\n",
        "    for i, data in enumerate(train_loader):\n",
        "        batch_data = data[0].to(device).long()\n",
        "        batch_mask = data[1].to(device).long()\n",
        "        batch_labels = data[2].to(device).long()\n",
        "\n",
        "        bert_model.zero_grad()\n",
        "        pred = bert_model(batch_data,\n",
        "                             token_type_ids=None,\n",
        "                             attention_mask=batch_mask,\n",
        "                             labels=batch_labels)\n",
        "        \n",
        "        # As we call the model with labels, it returns the loss in a tuple\n",
        "        loss = pred[0]  \n",
        "        epoch_loss += loss.item()\n",
        "        loss.backward()  # Backprpagation\n",
        "\n",
        "        # Clip Gradient norm to mitigate exploding of gradients\n",
        "        torch.nn.utils.clip_grad_norm_(bert_model.parameters(), 1.0)\n",
        "        optimizer.step()\n",
        "\n",
        "    epoch_loss /= len(train_loader)\n",
        "    print(\"train loss after %d epochs is %f \" %(ep+1, epoch_loss))\n",
        "    loss_arr.append(epoch_loss)\n",
        "\n",
        "    ##########   Validation   ##########\n"
      ],
      "execution_count": 6,
      "outputs": [
        {
          "output_type": "stream",
          "text": [
            "train loss after 1 epochs is 0.478859 \n",
            "train loss after 2 epochs is 0.302372 \n",
            "train loss after 3 epochs is 0.186273 \n",
            "train loss after 4 epochs is 0.135181 \n"
          ],
          "name": "stdout"
        }
      ]
    },
    {
      "cell_type": "code",
      "metadata": {
        "id": "l06Aw8gRVd_l",
        "colab_type": "code",
        "colab": {
          "base_uri": "https://localhost:8080/",
          "height": 326
        },
        "outputId": "130e392a-84e4-4a94-ef18-d8cd3d1281e3"
      },
      "source": [
        "########### Call the dataloader for loading test data  #############\n",
        "\n",
        "test_loader, _ = read_and_parse_data(\"./cola_public/raw/out_of_domain_dev.tsv\",\n",
        "                                     turn=\"test\")\n",
        "\n",
        "print(len(test_loader))\n",
        "test_acc = 0.0\n",
        "steps = 0"
      ],
      "execution_count": 7,
      "outputs": [
        {
          "output_type": "stream",
          "text": [
            "If Sam was going, Sally would know where.\n",
            "['if', 'sam', 'was', 'going', ',', 'sally', 'would', 'know', 'where', '.']\n",
            "[101, 2065, 3520, 2001, 2183, 1010, 8836, 2052, 2113, 2073, 1012, 102]\n",
            "516\n",
            "[ 101 2065 3520 2001 2183 1010 8836 2052 2113 2073 1012  102    0    0\n",
            "    0    0    0    0    0    0    0    0    0    0    0    0    0    0\n",
            "    0    0    0    0    0    0    0    0    0    0    0    0    0    0\n",
            "    0    0    0    0    0    0    0    0    0    0    0    0    0    0\n",
            "    0    0    0    0    0    0    0    0]\n",
            "[1, 1, 1, 1, 1, 1, 1, 1, 1, 1, 1, 1, 0, 0, 0, 0, 0, 0, 0, 0, 0, 0, 0, 0, 0, 0, 0, 0, 0, 0, 0, 0, 0, 0, 0, 0, 0, 0, 0, 0, 0, 0, 0, 0, 0, 0, 0, 0, 0, 0, 0, 0, 0, 0, 0, 0, 0, 0, 0, 0, 0, 0, 0, 0]\n",
            "train set size 515\n",
            "test set size 1\n",
            "\n",
            "train data shape torch.Size([515, 64])\n",
            "test data shape torch.Size([515])\n",
            "train mask shape torch.Size([515, 64])\n",
            "17\n"
          ],
          "name": "stdout"
        }
      ]
    },
    {
      "cell_type": "code",
      "metadata": {
        "id": "VTtws6nOG0gL",
        "colab_type": "code",
        "colab": {
          "base_uri": "https://localhost:8080/",
          "height": 34
        },
        "outputId": "8fa8dea7-f4c4-4287-91c4-a1eaf934d8e7"
      },
      "source": [
        "#########   Performance over Test set  ##############\n",
        "\n",
        "bert_model.eval()\n",
        "pred_list = []\n",
        "true_labels = []\n",
        "\n",
        "for batch in test_loader:\n",
        "    batch = tuple(t.to(device) for t in batch)\n",
        "    batch_data, batch_mask, batch_labels = batch\n",
        "\n",
        "    with torch.no_grad():\n",
        "        preds = bert_model(batch_data,\n",
        "                                token_type_ids=None,\n",
        "                                attention_mask=batch_mask)\n",
        "\n",
        "    logits = preds[0]\n",
        "    logits = logits.detach().cpu()\n",
        "    targets = batch_labels.to('cpu')\n",
        "\n",
        "    pred_list.append(logits.numpy())\n",
        "    true_labels.append(targets.numpy())\n",
        "    \n",
        "    acc = compute_accuracy(logits, targets)\n",
        "    test_acc += acc\n",
        "    steps += 1\n",
        "\n",
        "print(\"final test set accuracy is \", (test_acc / steps))\n"
      ],
      "execution_count": 27,
      "outputs": [
        {
          "output_type": "stream",
          "text": [
            "final test set accuracy is  0.8204656874432283\n"
          ],
          "name": "stdout"
        }
      ]
    },
    {
      "cell_type": "code",
      "metadata": {
        "id": "NmDkHfNNNldv",
        "colab_type": "code",
        "colab": {
          "base_uri": "https://localhost:8080/",
          "height": 34
        },
        "outputId": "d20fde93-2bfb-462c-8ac4-36f8450a8782"
      },
      "source": [
        "####### Evaluating the GLUE score(Mathew's Correlation for CoLA)  ########\n",
        "\n",
        "matthews_set = []\n",
        "for i in range(len(true_labels)):\n",
        "  pred_labels_i = np.argmax(pred_list[i], axis=1).flatten()\n",
        "  \n",
        "  # Calculates and stores the coef for this batch.  \n",
        "  matthews = matthews_corrcoef(true_labels[i], pred_labels_i)                \n",
        "  matthews_set.append(matthews)\n",
        "\n",
        "flat_predictions = [item for sublist in pred_list for item in sublist]\n",
        "flat_predictions = np.argmax(flat_predictions, axis=1).flatten()\n",
        "# Combine the correct labels for each batch into a single list.\n",
        "flat_true_labels = [item for sublist in true_labels for item in sublist]\n",
        "# Calculate Mathew's correlation\n",
        "mcc = matthews_corrcoef(flat_true_labels, flat_predictions)\n",
        "\n",
        "print('MCC: %.3f' % mcc)\n"
      ],
      "execution_count": 30,
      "outputs": [
        {
          "output_type": "stream",
          "text": [
            "MCC: 0.584\n"
          ],
          "name": "stdout"
        }
      ]
    }
  ]
}