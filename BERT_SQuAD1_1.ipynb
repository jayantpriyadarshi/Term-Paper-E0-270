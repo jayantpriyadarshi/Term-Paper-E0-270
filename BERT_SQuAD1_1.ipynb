{
  "nbformat": 4,
  "nbformat_minor": 0,
  "metadata": {
    "colab": {
      "name": "BERT_SQuAD1.1.ipynb",
      "provenance": []
    },
    "kernelspec": {
      "name": "python3",
      "display_name": "Python 3"
    },
    "accelerator": "GPU",
    "widgets": {
      "application/vnd.jupyter.widget-state+json": {
        "fa165c2d6acb47d083235acd88c7f3e3": {
          "model_module": "@jupyter-widgets/controls",
          "model_name": "HBoxModel",
          "state": {
            "_view_name": "HBoxView",
            "_dom_classes": [],
            "_model_name": "HBoxModel",
            "_view_module": "@jupyter-widgets/controls",
            "_model_module_version": "1.5.0",
            "_view_count": null,
            "_view_module_version": "1.5.0",
            "box_style": "",
            "layout": "IPY_MODEL_a11bd11b5e90417780fb5abf5a684b6b",
            "_model_module": "@jupyter-widgets/controls",
            "children": [
              "IPY_MODEL_be6ff9e4cfb745c1b3f8bd9cecc45102",
              "IPY_MODEL_9822efde69cc4d898f6252ac20edecdc"
            ]
          }
        },
        "a11bd11b5e90417780fb5abf5a684b6b": {
          "model_module": "@jupyter-widgets/base",
          "model_name": "LayoutModel",
          "state": {
            "_view_name": "LayoutView",
            "grid_template_rows": null,
            "right": null,
            "justify_content": null,
            "_view_module": "@jupyter-widgets/base",
            "overflow": null,
            "_model_module_version": "1.2.0",
            "_view_count": null,
            "flex_flow": null,
            "width": null,
            "min_width": null,
            "border": null,
            "align_items": null,
            "bottom": null,
            "_model_module": "@jupyter-widgets/base",
            "top": null,
            "grid_column": null,
            "overflow_y": null,
            "overflow_x": null,
            "grid_auto_flow": null,
            "grid_area": null,
            "grid_template_columns": null,
            "flex": null,
            "_model_name": "LayoutModel",
            "justify_items": null,
            "grid_row": null,
            "max_height": null,
            "align_content": null,
            "visibility": null,
            "align_self": null,
            "height": null,
            "min_height": null,
            "padding": null,
            "grid_auto_rows": null,
            "grid_gap": null,
            "max_width": null,
            "order": null,
            "_view_module_version": "1.2.0",
            "grid_template_areas": null,
            "object_position": null,
            "object_fit": null,
            "grid_auto_columns": null,
            "margin": null,
            "display": null,
            "left": null
          }
        },
        "be6ff9e4cfb745c1b3f8bd9cecc45102": {
          "model_module": "@jupyter-widgets/controls",
          "model_name": "FloatProgressModel",
          "state": {
            "_view_name": "ProgressView",
            "style": "IPY_MODEL_30e894d5fac84b95afabc1d60ffb6824",
            "_dom_classes": [],
            "description": "Downloading: 100%",
            "_model_name": "FloatProgressModel",
            "bar_style": "success",
            "max": 231508,
            "_view_module": "@jupyter-widgets/controls",
            "_model_module_version": "1.5.0",
            "value": 231508,
            "_view_count": null,
            "_view_module_version": "1.5.0",
            "orientation": "horizontal",
            "min": 0,
            "description_tooltip": null,
            "_model_module": "@jupyter-widgets/controls",
            "layout": "IPY_MODEL_357b89273b6744ef861e4a5e91d0644c"
          }
        },
        "9822efde69cc4d898f6252ac20edecdc": {
          "model_module": "@jupyter-widgets/controls",
          "model_name": "HTMLModel",
          "state": {
            "_view_name": "HTMLView",
            "style": "IPY_MODEL_1f99080c530b433bb9e9b3b7d9247f23",
            "_dom_classes": [],
            "description": "",
            "_model_name": "HTMLModel",
            "placeholder": "​",
            "_view_module": "@jupyter-widgets/controls",
            "_model_module_version": "1.5.0",
            "value": " 232k/232k [00:00&lt;00:00, 810kB/s]",
            "_view_count": null,
            "_view_module_version": "1.5.0",
            "description_tooltip": null,
            "_model_module": "@jupyter-widgets/controls",
            "layout": "IPY_MODEL_8c9ee63e7b514ebda2396dd06e5e6cfe"
          }
        },
        "30e894d5fac84b95afabc1d60ffb6824": {
          "model_module": "@jupyter-widgets/controls",
          "model_name": "ProgressStyleModel",
          "state": {
            "_view_name": "StyleView",
            "_model_name": "ProgressStyleModel",
            "description_width": "initial",
            "_view_module": "@jupyter-widgets/base",
            "_model_module_version": "1.5.0",
            "_view_count": null,
            "_view_module_version": "1.2.0",
            "bar_color": null,
            "_model_module": "@jupyter-widgets/controls"
          }
        },
        "357b89273b6744ef861e4a5e91d0644c": {
          "model_module": "@jupyter-widgets/base",
          "model_name": "LayoutModel",
          "state": {
            "_view_name": "LayoutView",
            "grid_template_rows": null,
            "right": null,
            "justify_content": null,
            "_view_module": "@jupyter-widgets/base",
            "overflow": null,
            "_model_module_version": "1.2.0",
            "_view_count": null,
            "flex_flow": null,
            "width": null,
            "min_width": null,
            "border": null,
            "align_items": null,
            "bottom": null,
            "_model_module": "@jupyter-widgets/base",
            "top": null,
            "grid_column": null,
            "overflow_y": null,
            "overflow_x": null,
            "grid_auto_flow": null,
            "grid_area": null,
            "grid_template_columns": null,
            "flex": null,
            "_model_name": "LayoutModel",
            "justify_items": null,
            "grid_row": null,
            "max_height": null,
            "align_content": null,
            "visibility": null,
            "align_self": null,
            "height": null,
            "min_height": null,
            "padding": null,
            "grid_auto_rows": null,
            "grid_gap": null,
            "max_width": null,
            "order": null,
            "_view_module_version": "1.2.0",
            "grid_template_areas": null,
            "object_position": null,
            "object_fit": null,
            "grid_auto_columns": null,
            "margin": null,
            "display": null,
            "left": null
          }
        },
        "1f99080c530b433bb9e9b3b7d9247f23": {
          "model_module": "@jupyter-widgets/controls",
          "model_name": "DescriptionStyleModel",
          "state": {
            "_view_name": "StyleView",
            "_model_name": "DescriptionStyleModel",
            "description_width": "",
            "_view_module": "@jupyter-widgets/base",
            "_model_module_version": "1.5.0",
            "_view_count": null,
            "_view_module_version": "1.2.0",
            "_model_module": "@jupyter-widgets/controls"
          }
        },
        "8c9ee63e7b514ebda2396dd06e5e6cfe": {
          "model_module": "@jupyter-widgets/base",
          "model_name": "LayoutModel",
          "state": {
            "_view_name": "LayoutView",
            "grid_template_rows": null,
            "right": null,
            "justify_content": null,
            "_view_module": "@jupyter-widgets/base",
            "overflow": null,
            "_model_module_version": "1.2.0",
            "_view_count": null,
            "flex_flow": null,
            "width": null,
            "min_width": null,
            "border": null,
            "align_items": null,
            "bottom": null,
            "_model_module": "@jupyter-widgets/base",
            "top": null,
            "grid_column": null,
            "overflow_y": null,
            "overflow_x": null,
            "grid_auto_flow": null,
            "grid_area": null,
            "grid_template_columns": null,
            "flex": null,
            "_model_name": "LayoutModel",
            "justify_items": null,
            "grid_row": null,
            "max_height": null,
            "align_content": null,
            "visibility": null,
            "align_self": null,
            "height": null,
            "min_height": null,
            "padding": null,
            "grid_auto_rows": null,
            "grid_gap": null,
            "max_width": null,
            "order": null,
            "_view_module_version": "1.2.0",
            "grid_template_areas": null,
            "object_position": null,
            "object_fit": null,
            "grid_auto_columns": null,
            "margin": null,
            "display": null,
            "left": null
          }
        }
      }
    }
  },
  "cells": [
    {
      "cell_type": "code",
      "metadata": {
        "id": "Sd-7jjnPU7wK",
        "colab_type": "code",
        "colab": {
          "base_uri": "https://localhost:8080/",
          "height": 340
        },
        "outputId": "4eba755a-b74a-4f13-a0c1-e5fecc855134"
      },
      "source": [
        "!pip install transformers\n",
        "import torch\n",
        "from transformers import BertForQuestionAnswering\n",
        "from transformers import BertTokenizer\n"
      ],
      "execution_count": 5,
      "outputs": [
        {
          "output_type": "stream",
          "text": [
            "Requirement already satisfied: transformers in /usr/local/lib/python3.6/dist-packages (2.11.0)\n",
            "Requirement already satisfied: sacremoses in /usr/local/lib/python3.6/dist-packages (from transformers) (0.0.43)\n",
            "Requirement already satisfied: regex!=2019.12.17 in /usr/local/lib/python3.6/dist-packages (from transformers) (2019.12.20)\n",
            "Requirement already satisfied: filelock in /usr/local/lib/python3.6/dist-packages (from transformers) (3.0.12)\n",
            "Requirement already satisfied: sentencepiece in /usr/local/lib/python3.6/dist-packages (from transformers) (0.1.91)\n",
            "Requirement already satisfied: dataclasses; python_version < \"3.7\" in /usr/local/lib/python3.6/dist-packages (from transformers) (0.7)\n",
            "Requirement already satisfied: numpy in /usr/local/lib/python3.6/dist-packages (from transformers) (1.18.5)\n",
            "Requirement already satisfied: tokenizers==0.7.0 in /usr/local/lib/python3.6/dist-packages (from transformers) (0.7.0)\n",
            "Requirement already satisfied: packaging in /usr/local/lib/python3.6/dist-packages (from transformers) (20.4)\n",
            "Requirement already satisfied: requests in /usr/local/lib/python3.6/dist-packages (from transformers) (2.23.0)\n",
            "Requirement already satisfied: tqdm>=4.27 in /usr/local/lib/python3.6/dist-packages (from transformers) (4.41.1)\n",
            "Requirement already satisfied: joblib in /usr/local/lib/python3.6/dist-packages (from sacremoses->transformers) (0.15.1)\n",
            "Requirement already satisfied: click in /usr/local/lib/python3.6/dist-packages (from sacremoses->transformers) (7.1.2)\n",
            "Requirement already satisfied: six in /usr/local/lib/python3.6/dist-packages (from sacremoses->transformers) (1.12.0)\n",
            "Requirement already satisfied: pyparsing>=2.0.2 in /usr/local/lib/python3.6/dist-packages (from packaging->transformers) (2.4.7)\n",
            "Requirement already satisfied: chardet<4,>=3.0.2 in /usr/local/lib/python3.6/dist-packages (from requests->transformers) (3.0.4)\n",
            "Requirement already satisfied: idna<3,>=2.5 in /usr/local/lib/python3.6/dist-packages (from requests->transformers) (2.9)\n",
            "Requirement already satisfied: urllib3!=1.25.0,!=1.25.1,<1.26,>=1.21.1 in /usr/local/lib/python3.6/dist-packages (from requests->transformers) (1.24.3)\n",
            "Requirement already satisfied: certifi>=2017.4.17 in /usr/local/lib/python3.6/dist-packages (from requests->transformers) (2020.4.5.2)\n"
          ],
          "name": "stdout"
        }
      ]
    },
    {
      "cell_type": "code",
      "metadata": {
        "id": "hgRuLgpHVNhZ",
        "colab_type": "code",
        "colab": {
          "base_uri": "https://localhost:8080/",
          "height": 66,
          "referenced_widgets": [
            "fa165c2d6acb47d083235acd88c7f3e3",
            "a11bd11b5e90417780fb5abf5a684b6b",
            "be6ff9e4cfb745c1b3f8bd9cecc45102",
            "9822efde69cc4d898f6252ac20edecdc",
            "30e894d5fac84b95afabc1d60ffb6824",
            "357b89273b6744ef861e4a5e91d0644c",
            "1f99080c530b433bb9e9b3b7d9247f23",
            "8c9ee63e7b514ebda2396dd06e5e6cfe"
          ]
        },
        "outputId": "5ec94bfe-284b-4727-db2c-a9c0441e0612"
      },
      "source": [
        "##### This BERT-large that has already been fine-tuned for the SQuAD benchmark.\n",
        "\n",
        "bert_model = BertForQuestionAnswering.from_pretrained('bert-large-uncased-whole-word-masking-finetuned-squad')\n",
        "tokenizer = BertTokenizer.from_pretrained('bert-large-uncased-whole-word-masking-finetuned-squad')\n"
      ],
      "execution_count": 6,
      "outputs": [
        {
          "output_type": "display_data",
          "data": {
            "application/vnd.jupyter.widget-view+json": {
              "model_id": "fa165c2d6acb47d083235acd88c7f3e3",
              "version_minor": 0,
              "version_major": 2
            },
            "text/plain": [
              "HBox(children=(FloatProgress(value=0.0, description='Downloading', max=231508.0, style=ProgressStyle(descripti…"
            ]
          },
          "metadata": {
            "tags": []
          }
        },
        {
          "output_type": "stream",
          "text": [
            "\n"
          ],
          "name": "stdout"
        }
      ]
    },
    {
      "cell_type": "code",
      "metadata": {
        "id": "87_W19p-WBu-",
        "colab_type": "code",
        "colab": {
          "base_uri": "https://localhost:8080/",
          "height": 1000
        },
        "outputId": "6b4bb972-eeba-4ee9-8e8c-0605f7af2f44"
      },
      "source": [
        "# Now that we have loaded the fine tuned\n",
        "# model, we are ready to feed questions to it\n",
        "\n",
        "question = \"What is Opera?\"\n",
        "answer_text = \"Opera refers to a dramatic art form, originating in Europe, in which the emotional content is conveyed to the audience as much through music, both vocal and instrumental, as it is through the lyrics. By contrast, in musical theater an actor's dramatic performance is primary, and the music plays a lesser role. The drama in opera is presented using the primary elements of theater such as scenery, costumes, and acting. However, the words of the opera, or libretto, are sung rather than spoken. The singers are accompanied by a musical ensemble ranging from a small instrumental ensemble to a full symphonic orchestra\"\n",
        "input_ids = tokenizer.encode(question, answer_text)\n",
        "tokens = tokenizer.convert_ids_to_tokens(input_ids)\n",
        "# BERT only needs the token IDs, but for the purpose of inspecting the \n",
        "# tokenizer's behavior, let's also get the token strings and display them.\n",
        "tokens = tokenizer.convert_ids_to_tokens(input_ids)\n",
        "\n",
        "# For each token and its id...\n",
        "for token, id in zip(tokens, input_ids):\n",
        "    \n",
        "    # If this is the [SEP] token, add some space around it to make it stand out.\n",
        "    if id == tokenizer.sep_token_id:\n",
        "        print('')\n",
        "    \n",
        "    # Print the token string and its ID in two columns.\n",
        "    print('{:<12} {:>6,}'.format(token, id))\n",
        "\n",
        "    if id == tokenizer.sep_token_id:\n",
        "        print('')"
      ],
      "execution_count": 19,
      "outputs": [
        {
          "output_type": "stream",
          "text": [
            "[CLS]           101\n",
            "what          2,054\n",
            "is            2,003\n",
            "opera         3,850\n",
            "?             1,029\n",
            "\n",
            "[SEP]           102\n",
            "\n",
            "opera         3,850\n",
            "refers        5,218\n",
            "to            2,000\n",
            "a             1,037\n",
            "dramatic      6,918\n",
            "art           2,396\n",
            "form          2,433\n",
            ",             1,010\n",
            "originating  14,802\n",
            "in            1,999\n",
            "europe        2,885\n",
            ",             1,010\n",
            "in            1,999\n",
            "which         2,029\n",
            "the           1,996\n",
            "emotional     6,832\n",
            "content       4,180\n",
            "is            2,003\n",
            "conveyed     21,527\n",
            "to            2,000\n",
            "the           1,996\n",
            "audience      4,378\n",
            "as            2,004\n",
            "much          2,172\n",
            "through       2,083\n",
            "music         2,189\n",
            ",             1,010\n",
            "both          2,119\n",
            "vocal         5,554\n",
            "and           1,998\n",
            "instrumental  6,150\n",
            ",             1,010\n",
            "as            2,004\n",
            "it            2,009\n",
            "is            2,003\n",
            "through       2,083\n",
            "the           1,996\n",
            "lyrics        4,581\n",
            ".             1,012\n",
            "by            2,011\n",
            "contrast      5,688\n",
            ",             1,010\n",
            "in            1,999\n",
            "musical       3,315\n",
            "theater       4,258\n",
            "an            2,019\n",
            "actor         3,364\n",
            "'             1,005\n",
            "s             1,055\n",
            "dramatic      6,918\n",
            "performance   2,836\n",
            "is            2,003\n",
            "primary       3,078\n",
            ",             1,010\n",
            "and           1,998\n",
            "the           1,996\n",
            "music         2,189\n",
            "plays         3,248\n",
            "a             1,037\n",
            "lesser        8,276\n",
            "role          2,535\n",
            ".             1,012\n",
            "the           1,996\n",
            "drama         3,689\n",
            "in            1,999\n",
            "opera         3,850\n",
            "is            2,003\n",
            "presented     3,591\n",
            "using         2,478\n",
            "the           1,996\n",
            "primary       3,078\n",
            "elements      3,787\n",
            "of            1,997\n",
            "theater       4,258\n",
            "such          2,107\n",
            "as            2,004\n",
            "scenery      17,363\n",
            ",             1,010\n",
            "costumes     12,703\n",
            ",             1,010\n",
            "and           1,998\n",
            "acting        3,772\n",
            ".             1,012\n",
            "however       2,174\n",
            ",             1,010\n",
            "the           1,996\n",
            "words         2,616\n",
            "of            1,997\n",
            "the           1,996\n",
            "opera         3,850\n",
            ",             1,010\n",
            "or            2,030\n",
            "libretto     17,621\n",
            ",             1,010\n",
            "are           2,024\n",
            "sung          7,042\n",
            "rather        2,738\n",
            "than          2,084\n",
            "spoken        5,287\n",
            ".             1,012\n",
            "the           1,996\n",
            "singers       8,453\n",
            "are           2,024\n",
            "accompanied   5,642\n",
            "by            2,011\n",
            "a             1,037\n",
            "musical       3,315\n",
            "ensemble      7,241\n",
            "ranging       7,478\n",
            "from          2,013\n",
            "a             1,037\n",
            "small         2,235\n",
            "instrumental  6,150\n",
            "ensemble      7,241\n",
            "to            2,000\n",
            "a             1,037\n",
            "full          2,440\n",
            "symphonic    18,957\n",
            "orchestra     4,032\n",
            "\n",
            "[SEP]           102\n",
            "\n"
          ],
          "name": "stdout"
        }
      ]
    },
    {
      "cell_type": "code",
      "metadata": {
        "id": "JRawMh-TWGCX",
        "colab_type": "code",
        "colab": {}
      },
      "source": [
        "# Search the input_ids for the first instance of the `[SEP]` token.\n",
        "sep_index = input_ids.index(tokenizer.sep_token_id)\n",
        "\n",
        "# The number of segment A tokens includes the [SEP] token istelf.\n",
        "num_seg_a = sep_index + 1\n",
        "\n",
        "# The remainder are segment B.\n",
        "num_seg_b = len(input_ids) - num_seg_a\n",
        "\n",
        "# Construct the list of 0s and 1s.\n",
        "segment_ids = [0]*num_seg_a + [1]*num_seg_b\n",
        "\n",
        "# There should be a segment_id for every input token.\n",
        "assert len(segment_ids) == len(input_ids)"
      ],
      "execution_count": 20,
      "outputs": []
    },
    {
      "cell_type": "code",
      "metadata": {
        "id": "-0CPSUZPcEHk",
        "colab_type": "code",
        "colab": {
          "base_uri": "https://localhost:8080/",
          "height": 88
        },
        "outputId": "2cee945f-ff25-464c-fe7d-2490c5f2a2ea"
      },
      "source": [
        "##### feed the data to the model  ######\n",
        "\n",
        "start_scores, end_scores = bert_model(torch.tensor([input_ids]),\n",
        "                                 token_type_ids=torch.tensor([segment_ids]))\n",
        "\n",
        "# Find the tokens with the highest \"start\" and \"end\" scores.\n",
        "answer_start = torch.argmax(start_scores)\n",
        "answer_end = torch.argmax(end_scores)\n",
        "\n",
        "# Combine the tokens in the answer and print it out.\n",
        "answer = ' '.join(tokens[answer_start:answer_end+1])\n",
        "\n",
        "print(\"You asked: \", question)\n",
        "print(\"The passage was: \", answer_text)\n",
        "print('The answer to your question is : \"' + answer + '\"')\n",
        "\n",
        "### This model can accept random passages and questions from those passages. \n",
        "### It works well on this passage which has no connection with the dataset on which the model was trained."
      ],
      "execution_count": 25,
      "outputs": [
        {
          "output_type": "stream",
          "text": [
            "You asked:  What is Opera?\n",
            "The passage was:  Opera refers to a dramatic art form, originating in Europe, in which the emotional content is conveyed to the audience as much through music, both vocal and instrumental, as it is through the lyrics. By contrast, in musical theater an actor's dramatic performance is primary, and the music plays a lesser role. The drama in opera is presented using the primary elements of theater such as scenery, costumes, and acting. However, the words of the opera, or libretto, are sung rather than spoken. The singers are accompanied by a musical ensemble ranging from a small instrumental ensemble to a full symphonic orchestra\n",
            "The answer to your question is : \"a dramatic art form\"\n"
          ],
          "name": "stdout"
        }
      ]
    }
  ]
}